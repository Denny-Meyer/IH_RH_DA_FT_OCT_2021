{
 "cells": [
  {
   "cell_type": "markdown",
   "metadata": {
    "id": "Lz0egMoXHyG_"
   },
   "source": [
    "# String operations"
   ]
  },
  {
   "cell_type": "markdown",
   "metadata": {
    "id": "hywy3F9rHyHC"
   },
   "source": [
    "#### Clean students' names"
   ]
  },
  {
   "cell_type": "code",
   "execution_count": 4,
   "metadata": {
    "executionInfo": {
     "elapsed": 4,
     "status": "ok",
     "timestamp": 1628247646669,
     "user": {
      "displayName": "Rafa H",
      "photoUrl": "https://lh3.googleusercontent.com/a-/AOh14GgDQKi8G69cJ8pT0MCNxLEdzFN1NYmwWBT5cjnb3B8=s64",
      "userId": "02794594023825428143"
     },
     "user_tz": -120
    },
    "id": "8Wb5uSpAHyHD"
   },
   "outputs": [],
   "source": [
    "students = ['sergio-andres-rojas', 'ronaldo-licaj', 'marcus-schulz', \n",
    "            'lars-fiedler', 'julia-grzejszczak', 'jule-twelkemeier', \n",
    "            'filiz-özkan', 'diana-kapke', 'darinka-markovic', \n",
    "            'carlos-entrena-moratiel', 'bita-rezania', 'basil-thankachan',\n",
    "            'ayse-subasi', 'anne-ihle', 'alfred-stehli']"
   ]
  },
  {
   "cell_type": "code",
   "execution_count": 5,
   "metadata": {
    "executionInfo": {
     "elapsed": 236,
     "status": "ok",
     "timestamp": 1628247653052,
     "user": {
      "displayName": "Rafa H",
      "photoUrl": "https://lh3.googleusercontent.com/a-/AOh14GgDQKi8G69cJ8pT0MCNxLEdzFN1NYmwWBT5cjnb3B8=s64",
      "userId": "02794594023825428143"
     },
     "user_tz": -120
    },
    "id": "y_8SSGusHyHE"
   },
   "outputs": [],
   "source": [
    "def clean_names(names_list):\n",
    "    clean_list = []\n",
    "    for name in names_list:\n",
    "        clean_list.append(name.replace(\"-\", \" \"))\n",
    "    return clean_list"
   ]
  },
  {
   "cell_type": "markdown",
   "metadata": {},
   "source": [
    "### calling the function"
   ]
  },
  {
   "cell_type": "code",
   "execution_count": 8,
   "metadata": {
    "colab": {
     "base_uri": "https://localhost:8080/"
    },
    "executionInfo": {
     "elapsed": 283,
     "status": "ok",
     "timestamp": 1628247658385,
     "user": {
      "displayName": "Rafa H",
      "photoUrl": "https://lh3.googleusercontent.com/a-/AOh14GgDQKi8G69cJ8pT0MCNxLEdzFN1NYmwWBT5cjnb3B8=s64",
      "userId": "02794594023825428143"
     },
     "user_tz": -120
    },
    "id": "UTvXRlSpHyHE",
    "outputId": "762d6857-d384-4ae0-f649-e6e6163c99c4"
   },
   "outputs": [
    {
     "name": "stdout",
     "output_type": "stream",
     "text": [
      "['sergio andres rojas', 'ronaldo licaj', 'marcus schulz', 'lars fiedler', 'julia grzejszczak', 'jule twelkemeier', 'filiz özkan', 'diana kapke', 'darinka markovic', 'carlos entrena moratiel', 'bita rezania', 'basil thankachan', 'ayse subasi', 'anne ihle', 'alfred stehli']\n"
     ]
    }
   ],
   "source": [
    "students_clean = clean_names(students)\n",
    "\n",
    "print(students_clean)"
   ]
  },
  {
   "cell_type": "markdown",
   "metadata": {
    "id": "1p-C7UfoHyHG"
   },
   "source": [
    "#### Detect colors in sentences:"
   ]
  },
  {
   "cell_type": "code",
   "execution_count": 55,
   "metadata": {
    "id": "0ZJ7KdE0HyHG"
   },
   "outputs": [],
   "source": [
    "colors = [\"red\", \"blue\", \"green\", \"orange\", \"yellow\", \"black\", \"purple\", \"white\", \"brown\", \"gray\", \"pink\"]\n",
    "\n",
    "sentences = [\"My jacket is green\", \"I like red apples\", \"We are all in a yellow submarine\", \"Black lives matter\",\n",
    "             \"I'm blue da ba dee da ba daa\", \"Purple rain\", \"Coral is far more red than her lips' red\"]"
   ]
  },
  {
   "cell_type": "code",
   "execution_count": 56,
   "metadata": {
    "id": "S8MKGBTkHyHH",
    "outputId": "3ad41fae-aa95-4635-abcb-2171d98726be"
   },
   "outputs": [
    {
     "name": "stdout",
     "output_type": "stream",
     "text": [
      "green color is  detected in the list: My jacket is green\n",
      "red color is  detected in the list: I like red apples\n",
      "yellow color is  detected in the list: We are all in a yellow submarine\n",
      "blue color is  detected in the list: I'm blue da ba dee da ba daa\n",
      "red color is  detected in the list: Coral is far more red than her lips' red\n"
     ]
    }
   ],
   "source": [
    "for sentence in sentences:\n",
    "    for color in colors:\n",
    "        ## if color is found in the sentence:\n",
    "        if sentence.find(color) != -1:\n",
    "            print(color + \" color is  detected in the list: \"+ sentence)"
   ]
  },
  {
   "cell_type": "markdown",
   "metadata": {
    "id": "qgfGRW5YHyHI"
   },
   "source": [
    "#### Have you detected \"Black\"?"
   ]
  },
  {
   "cell_type": "code",
   "execution_count": 58,
   "metadata": {},
   "outputs": [
    {
     "name": "stdout",
     "output_type": "stream",
     "text": [
      "green is detected in the list : My jacket is green\n",
      "red is detected in the list : I like red apples\n",
      "yellow is detected in the list : We are all in a yellow submarine\n",
      "blue is detected in the list : I'm blue da ba dee da ba daa\n",
      "red is detected in the list : Coral is far more red than her lips' red\n"
     ]
    }
   ],
   "source": [
    "## for each sentence do the follwoing \n",
    "    ## for each color in the colors list please do the following:\n",
    "          # Search for the color as sub string in the whole sentence \n",
    "          # If the color is FOUND in the sentence do the folowing:\n",
    "            ##print the following:  \"Color is detected in this list [list name]\"\n",
    "            \n",
    "        \n",
    "for sentence in sentences:\n",
    "    for color in colors:\n",
    "        ## if sentence is FOUND\n",
    "        if(sentence.find(color) !=-1):\n",
    "            print (color + \" is detected in the list : \"+ sentence)"
   ]
  },
  {
   "cell_type": "code",
   "execution_count": 59,
   "metadata": {
    "id": "5ai5qEoRHyHJ",
    "outputId": "03294d0c-16cd-4e3c-ed91-4a5feee75254"
   },
   "outputs": [
    {
     "name": "stdout",
     "output_type": "stream",
     "text": [
      "green detected\n",
      "red detected\n",
      "yellow detected\n",
      "black detected\n",
      "blue detected\n",
      "purple detected\n",
      "red detected\n"
     ]
    }
   ],
   "source": [
    "for sentence in sentences:\n",
    "    for color in colors:\n",
    "        if sentence.lower().find(color) != -1:\n",
    "            print(color + \" detected\")"
   ]
  },
  {
   "cell_type": "markdown",
   "metadata": {
    "id": "1kVMrQyXHyHK"
   },
   "source": [
    "#### Make it a function:"
   ]
  },
  {
   "cell_type": "code",
   "execution_count": 31,
   "metadata": {
    "id": "fVrwiwVcHyHK"
   },
   "outputs": [],
   "source": [
    "def color_detector(colors_list, sentences_list):\n",
    "    for sentence in sentences_list:\n",
    "        for color in colors_list:\n",
    "            if sentence.lower().find(color) != -1:\n",
    "                print(color + \" detected\")"
   ]
  },
  {
   "cell_type": "code",
   "execution_count": 32,
   "metadata": {
    "id": "w3va0iXYHyHK",
    "outputId": "9d509879-01c1-41ab-e410-d41c677905e7"
   },
   "outputs": [
    {
     "name": "stdout",
     "output_type": "stream",
     "text": [
      "green detected\n",
      "red detected\n",
      "yellow detected\n",
      "black detected\n",
      "blue detected\n",
      "purple detected\n",
      "red detected\n"
     ]
    }
   ],
   "source": [
    "color_detector(colors, sentences)"
   ]
  },
  {
   "cell_type": "markdown",
   "metadata": {
    "id": "Hq9vQu0eHyHL"
   },
   "source": [
    "#### Replace a color for another one (at random):"
   ]
  },
  {
   "cell_type": "code",
   "execution_count": 34,
   "metadata": {
    "id": "UWMC0jJqHyHL"
   },
   "outputs": [],
   "source": [
    "import random"
   ]
  },
  {
   "cell_type": "markdown",
   "metadata": {
    "id": "6FuNdvMkHyHM"
   },
   "source": [
    "#### Replace the color for another color, picked at random:"
   ]
  },
  {
   "cell_type": "code",
   "execution_count": 52,
   "metadata": {
    "id": "qip9nO4HHyHM",
    "outputId": "18ead4b0-8de4-48b4-ae7d-841bbdd7f7d7"
   },
   "outputs": [
    {
     "name": "stdout",
     "output_type": "stream",
     "text": [
      "My jacket is orange\n",
      "I like purple apples\n",
      "We are all in a pink submarine\n",
      "Yellow lives matter\n",
      "I'm brown da ba dee da ba daa\n",
      "White rain\n",
      "Coral is far more pink than her lips' pink\n"
     ]
    }
   ],
   "source": [
    "for index,sentence in enumerate(sentences):\n",
    "    sentence = sentence.lower()\n",
    "    for color in colors:\n",
    "        ### if the color is FOUND in the sentence\n",
    "        if sentence.find(color) != -1:\n",
    "            print(sentence.replace(color, random.choice(colors)).capitalize())\n",
    "            #sentences[index]=sentence.replace(color, random.choice(colors))"
   ]
  }
 ],
 "metadata": {
  "colab": {
   "name": "Code_Along _Python_String_Operations.ipynb",
   "provenance": []
  },
  "kernelspec": {
   "display_name": "Python 3",
   "language": "python",
   "name": "python3"
  },
  "language_info": {
   "codemirror_mode": {
    "name": "ipython",
    "version": 3
   },
   "file_extension": ".py",
   "mimetype": "text/x-python",
   "name": "python",
   "nbconvert_exporter": "python",
   "pygments_lexer": "ipython3",
   "version": "3.8.8"
  }
 },
 "nbformat": 4,
 "nbformat_minor": 1
}
